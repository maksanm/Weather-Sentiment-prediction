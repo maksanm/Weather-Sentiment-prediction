{
 "cells": [
  {
   "cell_type": "markdown",
   "metadata": {},
   "source": [
    "# Random Forest vs XGBoost vs SVM"
   ]
  },
  {
   "cell_type": "markdown",
   "metadata": {},
   "source": [
    "This notebook compares performance of **Random forest**, **XGBoost** and **SVM** algorithms. Training relies only on assigned Sentiment class (*Positive*/*Negative*/*Neutral or author is just sharing information*), but all the tweets with Confidence <= 0.65 are filtered out first. We left *Tweets not related to weather condition* with any Confidence, because we didn’t get enough vocabulary for this class from our dataset, and analyzing even low-confidence tweets should help with this."
   ]
  },
  {
   "cell_type": "markdown",
   "metadata": {},
   "source": [
    "## Imports\n"
   ]
  },
  {
   "cell_type": "code",
   "execution_count": 20,
   "metadata": {},
   "outputs": [],
   "source": [
    "from src.WeatherSentimentData import WeatherSentimentData\n",
    "from src.TweetTextPreprocessor import TweetTextPreprocessor\n",
    "from src.Assessor import Assessor\n",
    "from sklearn.feature_extraction.text import TfidfVectorizer\n",
    "from sklearn.model_selection import train_test_split\n",
    "from sklearn.metrics import confusion_matrix\n",
    "from sklearn.metrics import accuracy_score, classification_report\n",
    "from xgboost import XGBClassifier\n",
    "from sklearn.svm import SVC\n",
    "from sklearn.ensemble import RandomForestClassifier\n",
    "from sklearn.preprocessing import LabelEncoder\n",
    "import pickle\n",
    "import pandas as pd\n",
    "import numpy as np\n",
    "from os import path\n",
    "import os\n",
    "from config import threshold, test_size, saved_models_path, saved_vectorizers_path"
   ]
  },
  {
   "cell_type": "markdown",
   "metadata": {},
   "source": [
    "## Data"
   ]
  },
  {
   "cell_type": "markdown",
   "metadata": {},
   "source": [
    "Tweets related to weather and having low confidence are filtered out."
   ]
  },
  {
   "cell_type": "code",
   "execution_count": 21,
   "metadata": {},
   "outputs": [
    {
     "name": "stdout",
     "output_type": "stream",
     "text": [
      "Tweet not related to weather condition          348\n",
      "Positive                                        302\n",
      "Negative                                        275\n",
      "Neutral / author is just sharing information    230\n",
      "Name: sentiment, dtype: int64\n"
     ]
    },
    {
     "data": {
      "text/html": [
       "<div>\n",
       "<style scoped>\n",
       "    .dataframe tbody tr th:only-of-type {\n",
       "        vertical-align: middle;\n",
       "    }\n",
       "\n",
       "    .dataframe tbody tr th {\n",
       "        vertical-align: top;\n",
       "    }\n",
       "\n",
       "    .dataframe thead th {\n",
       "        text-align: right;\n",
       "    }\n",
       "</style>\n",
       "<table border=\"1\" class=\"dataframe\">\n",
       "  <thead>\n",
       "    <tr style=\"text-align: right;\">\n",
       "      <th></th>\n",
       "      <th>confidence</th>\n",
       "      <th>sentiment</th>\n",
       "      <th>tweet_text</th>\n",
       "    </tr>\n",
       "  </thead>\n",
       "  <tbody>\n",
       "    <tr>\n",
       "      <th>0</th>\n",
       "      <td>0.8439</td>\n",
       "      <td>Positive</td>\n",
       "      <td>Grilling kabobs on the grill last night was am...</td>\n",
       "    </tr>\n",
       "    <tr>\n",
       "      <th>1</th>\n",
       "      <td>0.6963</td>\n",
       "      <td>Negative</td>\n",
       "      <td>The slowest day ever !! And the weather makes ...</td>\n",
       "    </tr>\n",
       "    <tr>\n",
       "      <th>2</th>\n",
       "      <td>0.8802</td>\n",
       "      <td>Neutral / author is just sharing information</td>\n",
       "      <td>Fire Weather Watch issued May 17 at 4:21PM CDT...</td>\n",
       "    </tr>\n",
       "    <tr>\n",
       "      <th>3</th>\n",
       "      <td>0.6897</td>\n",
       "      <td>Positive</td>\n",
       "      <td>Im going to lunch early today.   The weather i...</td>\n",
       "    </tr>\n",
       "    <tr>\n",
       "      <th>7</th>\n",
       "      <td>0.7987</td>\n",
       "      <td>Negative</td>\n",
       "      <td>I hate this weather. Good day for a movie mara...</td>\n",
       "    </tr>\n",
       "    <tr>\n",
       "      <th>...</th>\n",
       "      <td>...</td>\n",
       "      <td>...</td>\n",
       "      <td>...</td>\n",
       "    </tr>\n",
       "    <tr>\n",
       "      <th>1565</th>\n",
       "      <td>0.7486</td>\n",
       "      <td>Negative</td>\n",
       "      <td>I'm so sick of this rain. It's ruining my mood...</td>\n",
       "    </tr>\n",
       "    <tr>\n",
       "      <th>1567</th>\n",
       "      <td>0.7821</td>\n",
       "      <td>Positive</td>\n",
       "      <td>Going skiing with my buddies. It's going to be...</td>\n",
       "    </tr>\n",
       "    <tr>\n",
       "      <th>1568</th>\n",
       "      <td>0.7194</td>\n",
       "      <td>Negative</td>\n",
       "      <td>This humidity is unbearable. I feel like I'm i...</td>\n",
       "    </tr>\n",
       "    <tr>\n",
       "      <th>1569</th>\n",
       "      <td>0.6389</td>\n",
       "      <td>Tweet not related to weather condition</td>\n",
       "      <td>Look at this cute puppy I found on the street....</td>\n",
       "    </tr>\n",
       "    <tr>\n",
       "      <th>1570</th>\n",
       "      <td>0.7643</td>\n",
       "      <td>Positive</td>\n",
       "      <td>Feeling cozy in my new sweater. It's so soft a...</td>\n",
       "    </tr>\n",
       "  </tbody>\n",
       "</table>\n",
       "<p>1155 rows × 3 columns</p>\n",
       "</div>"
      ],
      "text/plain": [
       "      confidence                                     sentiment  \\\n",
       "0         0.8439                                      Positive   \n",
       "1         0.6963                                      Negative   \n",
       "2         0.8802  Neutral / author is just sharing information   \n",
       "3         0.6897                                      Positive   \n",
       "7         0.7987                                      Negative   \n",
       "...          ...                                           ...   \n",
       "1565      0.7486                                      Negative   \n",
       "1567      0.7821                                      Positive   \n",
       "1568      0.7194                                      Negative   \n",
       "1569      0.6389        Tweet not related to weather condition   \n",
       "1570      0.7643                                      Positive   \n",
       "\n",
       "                                             tweet_text  \n",
       "0     Grilling kabobs on the grill last night was am...  \n",
       "1     The slowest day ever !! And the weather makes ...  \n",
       "2     Fire Weather Watch issued May 17 at 4:21PM CDT...  \n",
       "3     Im going to lunch early today.   The weather i...  \n",
       "7     I hate this weather. Good day for a movie mara...  \n",
       "...                                                 ...  \n",
       "1565  I'm so sick of this rain. It's ruining my mood...  \n",
       "1567  Going skiing with my buddies. It's going to be...  \n",
       "1568  This humidity is unbearable. I feel like I'm i...  \n",
       "1569  Look at this cute puppy I found on the street....  \n",
       "1570  Feeling cozy in my new sweater. It's so soft a...  \n",
       "\n",
       "[1155 rows x 3 columns]"
      ]
     },
     "execution_count": 21,
     "metadata": {},
     "output_type": "execute_result"
    }
   ],
   "source": [
    "weather_data = WeatherSentimentData('data', use_generated_data=True)\n",
    "df = weather_data.full_data\n",
    "\n",
    "df =  df[(df.confidence.astype(float) > threshold) | (df.sentiment == 'Tweet not related to weather condition')]\n",
    "\n",
    "print(df.sentiment.value_counts())\n",
    "df[['confidence', 'sentiment', 'tweet_text']]"
   ]
  },
  {
   "cell_type": "markdown",
   "metadata": {},
   "source": [
    "### Text preprocessing"
   ]
  },
  {
   "cell_type": "markdown",
   "metadata": {},
   "source": [
    "Text preprocessing consists of 5 stages:\n",
    "- converting all letters to lowercase,\n",
    "- removing all unnecessary elements (urls, @mentions, nonwords, digits etc.)\n",
    "- tokenizing the text,\n",
    "- excluding stopwords,\n",
    "- stemming\n",
    "\n",
    "Its code can be fined in [text-preprocessing.ipynb](text-preprocessing.ipynb) or in [TweetTextPreprocessor.py](src/TweetTextPreprocessor.py)."
   ]
  },
  {
   "cell_type": "code",
   "execution_count": 22,
   "metadata": {},
   "outputs": [
    {
     "name": "stderr",
     "output_type": "stream",
     "text": [
      "[nltk_data] Downloading package punkt to\n",
      "[nltk_data]     C:\\Users\\mmakaranka\\AppData\\Roaming\\nltk_data...\n",
      "[nltk_data]   Package punkt is already up-to-date!\n",
      "[nltk_data] Downloading package wordnet to\n",
      "[nltk_data]     C:\\Users\\mmakaranka\\AppData\\Roaming\\nltk_data...\n",
      "[nltk_data]   Package wordnet is already up-to-date!\n",
      "[nltk_data] Downloading package omw-1.4 to\n",
      "[nltk_data]     C:\\Users\\mmakaranka\\AppData\\Roaming\\nltk_data...\n",
      "[nltk_data]   Package omw-1.4 is already up-to-date!\n",
      "[nltk_data] Downloading package stopwords to\n",
      "[nltk_data]     C:\\Users\\mmakaranka\\AppData\\Roaming\\nltk_data...\n",
      "[nltk_data]   Package stopwords is already up-to-date!\n",
      "C:\\Users\\mmakaranka\\AppData\\Local\\Temp\\ipykernel_32520\\3602649460.py:2: SettingWithCopyWarning: \n",
      "A value is trying to be set on a copy of a slice from a DataFrame.\n",
      "Try using .loc[row_indexer,col_indexer] = value instead\n",
      "\n",
      "See the caveats in the documentation: https://pandas.pydata.org/pandas-docs/stable/user_guide/indexing.html#returning-a-view-versus-a-copy\n",
      "  df['tweet_text'] = preprocessor.preprocess(df['tweet_text'])\n"
     ]
    }
   ],
   "source": [
    "preprocessor = TweetTextPreprocessor()\n",
    "df['tweet_text'] = preprocessor.preprocess(df['tweet_text'])"
   ]
  },
  {
   "cell_type": "markdown",
   "metadata": {},
   "source": [
    "## Models setup"
   ]
  },
  {
   "cell_type": "markdown",
   "metadata": {},
   "source": [
    "### Splitting data"
   ]
  },
  {
   "cell_type": "markdown",
   "metadata": {},
   "source": [
    "Splits the data into training and test sets. `X` consists of preprocessed tweets and `y` holds assigned sentiment classes."
   ]
  },
  {
   "cell_type": "code",
   "execution_count": 23,
   "metadata": {},
   "outputs": [
    {
     "name": "stderr",
     "output_type": "stream",
     "text": [
      "C:\\Users\\mmakaranka\\AppData\\Local\\Temp\\ipykernel_32520\\1301843725.py:1: SettingWithCopyWarning: \n",
      "A value is trying to be set on a copy of a slice from a DataFrame.\n",
      "Try using .loc[row_indexer,col_indexer] = value instead\n",
      "\n",
      "See the caveats in the documentation: https://pandas.pydata.org/pandas-docs/stable/user_guide/indexing.html#returning-a-view-versus-a-copy\n",
      "  df['tweet_text'] = df['tweet_text'].apply(lambda x: ' '.join(x)) # list -> string\n"
     ]
    }
   ],
   "source": [
    "df['tweet_text'] = df['tweet_text'].apply(lambda x: ' '.join(x)) # list -> string\n",
    "X = df['tweet_text']\n",
    "y = df['sentiment']\n",
    "X_train, X_test, y_train, y_test = train_test_split(X, y, test_size=test_size, random_state=42)"
   ]
  },
  {
   "cell_type": "markdown",
   "metadata": {},
   "source": [
    "### Vectorizing"
   ]
  },
  {
   "cell_type": "code",
   "execution_count": 24,
   "metadata": {},
   "outputs": [],
   "source": [
    "# ngram\n",
    "tf_idf_ngram_vectorizer = TfidfVectorizer(ngram_range=(1, 3))\n",
    "X_tf_idf_word_train = tf_idf_ngram_vectorizer.fit_transform(X_train)\n",
    "X_tf_idf_word_test = tf_idf_ngram_vectorizer.transform(X_test)\n",
    "\n",
    "with open(path.join(saved_vectorizers_path, 'basic_vectorizer.pkl'), 'wb') as file:\n",
    "    pickle.dump(tf_idf_ngram_vectorizer, file)"
   ]
  },
  {
   "cell_type": "markdown",
   "metadata": {},
   "source": [
    "### Label encoding for XGBoost"
   ]
  },
  {
   "cell_type": "markdown",
   "metadata": {},
   "source": [
    "Because **XGBoost** algorithm cannot deal with categorical variables on its own we need label encoding to transform Sentiment values (strings) into plain integers. We also save our label encoder to file as it will be needed for future endeavours."
   ]
  },
  {
   "cell_type": "code",
   "execution_count": 25,
   "metadata": {},
   "outputs": [],
   "source": [
    "label_encoder = LabelEncoder()\n",
    "y_train_encoded = label_encoder.fit_transform(y_train)\n",
    "\n",
    "with open(path.join(saved_vectorizers_path, 'basic_label_encoder.pkl'), 'wb') as file:\n",
    "    pickle.dump(label_encoder, file)"
   ]
  },
  {
   "cell_type": "markdown",
   "metadata": {},
   "source": [
    "Our vectorizer of choice is going to be a **Term Frequency-Inverse Document Frequency** with n-grams of words within the range of 1 to 3 (unigrams, bigrams, and trigrams)"
   ]
  },
  {
   "cell_type": "markdown",
   "metadata": {},
   "source": [
    "## Random forest"
   ]
  },
  {
   "cell_type": "markdown",
   "metadata": {},
   "source": [
    "Initializing and fitting random forest algorithm:"
   ]
  },
  {
   "cell_type": "code",
   "execution_count": 26,
   "metadata": {},
   "outputs": [],
   "source": [
    "rf = RandomForestClassifier(random_state=42)\n",
    "rf.fit(X_tf_idf_word_train, y_train)\n",
    "\n",
    "with open(os.path.join(saved_models_path, \"rf_basic.pkl\"), 'wb') as file:\n",
    "    pickle.dump(rf, file)"
   ]
  },
  {
   "cell_type": "markdown",
   "metadata": {},
   "source": [
    "### Predictions"
   ]
  },
  {
   "cell_type": "markdown",
   "metadata": {},
   "source": [
    "Prediction for test set and counting predicted classes complemented with test set accuracy and classification report."
   ]
  },
  {
   "cell_type": "code",
   "execution_count": 27,
   "metadata": {},
   "outputs": [
    {
     "data": {
      "text/plain": [
       "Tweet not related to weather condition          41\n",
       "Positive                                        29\n",
       "Negative                                        27\n",
       "Neutral / author is just sharing information    19\n",
       "dtype: int64"
      ]
     },
     "execution_count": 27,
     "metadata": {},
     "output_type": "execute_result"
    }
   ],
   "source": [
    "y_pred_rf = rf.predict(X_tf_idf_word_test)\n",
    "pd.Series(y_pred_rf).value_counts()"
   ]
  },
  {
   "cell_type": "code",
   "execution_count": 28,
   "metadata": {},
   "outputs": [
    {
     "data": {
      "text/plain": [
       "('Accuracy', 0.8448275862068966)"
      ]
     },
     "execution_count": 28,
     "metadata": {},
     "output_type": "execute_result"
    }
   ],
   "source": [
    "\"Accuracy\", accuracy_score(y_test, y_pred_rf)"
   ]
  },
  {
   "cell_type": "code",
   "execution_count": 29,
   "metadata": {},
   "outputs": [
    {
     "name": "stdout",
     "output_type": "stream",
     "text": [
      "                                              precision    recall  f1-score   support\n",
      "\n",
      "                                    Negative       0.81      0.88      0.85        25\n",
      "Neutral / author is just sharing information       1.00      0.83      0.90        23\n",
      "                                    Positive       0.76      0.88      0.81        25\n",
      "      Tweet not related to weather condition       0.85      0.81      0.83        43\n",
      "\n",
      "                                    accuracy                           0.84       116\n",
      "                                   macro avg       0.86      0.85      0.85       116\n",
      "                                weighted avg       0.85      0.84      0.85       116\n",
      "\n"
     ]
    }
   ],
   "source": [
    "cr_rf = classification_report(y_test, y_pred_rf)\n",
    "print(cr_rf)"
   ]
  },
  {
   "cell_type": "markdown",
   "metadata": {},
   "source": [
    "The same fitting, predicting and metrics gathering process will be repeated for both **XGBoost** and **SVM**."
   ]
  },
  {
   "cell_type": "markdown",
   "metadata": {},
   "source": [
    "## XGBoost"
   ]
  },
  {
   "cell_type": "code",
   "execution_count": 30,
   "metadata": {},
   "outputs": [],
   "source": [
    "xgb = XGBClassifier(random_state=42)\n",
    "xgb.fit(X_tf_idf_word_train, y_train_encoded)\n",
    "\n",
    "with open(os.path.join(saved_models_path, \"xgb_basic.pkl\"), 'wb') as file:\n",
    "    pickle.dump(xgb, file)"
   ]
  },
  {
   "cell_type": "markdown",
   "metadata": {},
   "source": [
    "### Predictions"
   ]
  },
  {
   "cell_type": "code",
   "execution_count": 31,
   "metadata": {},
   "outputs": [
    {
     "data": {
      "text/plain": [
       "Tweet not related to weather condition          41\n",
       "Positive                                        30\n",
       "Negative                                        25\n",
       "Neutral / author is just sharing information    20\n",
       "dtype: int64"
      ]
     },
     "execution_count": 31,
     "metadata": {},
     "output_type": "execute_result"
    }
   ],
   "source": [
    "y_pred_xgb = xgb.predict(X_tf_idf_word_test)\n",
    "y_pred_xgb = label_encoder.inverse_transform(y_pred_xgb)\n",
    "pd.Series(y_pred_xgb).value_counts()"
   ]
  },
  {
   "cell_type": "code",
   "execution_count": 32,
   "metadata": {},
   "outputs": [
    {
     "data": {
      "text/plain": [
       "('Accuracy', 0.7844827586206896)"
      ]
     },
     "execution_count": 32,
     "metadata": {},
     "output_type": "execute_result"
    }
   ],
   "source": [
    "\"Accuracy\", accuracy_score(y_test, y_pred_xgb)"
   ]
  },
  {
   "cell_type": "code",
   "execution_count": 33,
   "metadata": {},
   "outputs": [
    {
     "name": "stdout",
     "output_type": "stream",
     "text": [
      "                                              precision    recall  f1-score   support\n",
      "\n",
      "                                    Negative       0.84      0.84      0.84        25\n",
      "Neutral / author is just sharing information       0.85      0.74      0.79        23\n",
      "                                    Positive       0.67      0.80      0.73        25\n",
      "      Tweet not related to weather condition       0.80      0.77      0.79        43\n",
      "\n",
      "                                    accuracy                           0.78       116\n",
      "                                   macro avg       0.79      0.79      0.79       116\n",
      "                                weighted avg       0.79      0.78      0.79       116\n",
      "\n"
     ]
    }
   ],
   "source": [
    "cr_xgb = classification_report(y_test, y_pred_xgb)\n",
    "print(cr_xgb)"
   ]
  },
  {
   "cell_type": "markdown",
   "metadata": {},
   "source": [
    "## SVM"
   ]
  },
  {
   "cell_type": "code",
   "execution_count": 34,
   "metadata": {},
   "outputs": [],
   "source": [
    "svm = SVC(random_state=42)\n",
    "svm.fit(X_tf_idf_word_train, y_train)\n",
    "\n",
    "with open(os.path.join(saved_models_path, \"svm_basic.pkl\"), 'wb') as file:\n",
    "    pickle.dump(svm, file)"
   ]
  },
  {
   "cell_type": "markdown",
   "metadata": {},
   "source": [
    "### Predictions"
   ]
  },
  {
   "cell_type": "code",
   "execution_count": 35,
   "metadata": {},
   "outputs": [],
   "source": [
    "y_pred_svm = svm.predict(X_tf_idf_word_test)"
   ]
  },
  {
   "cell_type": "code",
   "execution_count": 36,
   "metadata": {},
   "outputs": [
    {
     "data": {
      "text/plain": [
       "Tweet not related to weather condition          52\n",
       "Positive                                        28\n",
       "Negative                                        23\n",
       "Neutral / author is just sharing information    13\n",
       "dtype: int64"
      ]
     },
     "execution_count": 36,
     "metadata": {},
     "output_type": "execute_result"
    }
   ],
   "source": [
    "pd.Series(y_pred_svm).value_counts()"
   ]
  },
  {
   "cell_type": "code",
   "execution_count": 37,
   "metadata": {},
   "outputs": [
    {
     "data": {
      "text/plain": [
       "('Accuracy', 0.8103448275862069)"
      ]
     },
     "execution_count": 37,
     "metadata": {},
     "output_type": "execute_result"
    }
   ],
   "source": [
    "\"Accuracy\", accuracy_score(y_test, y_pred_svm)"
   ]
  },
  {
   "cell_type": "code",
   "execution_count": 38,
   "metadata": {},
   "outputs": [
    {
     "name": "stdout",
     "output_type": "stream",
     "text": [
      "                                              precision    recall  f1-score   support\n",
      "\n",
      "                                    Negative       0.91      0.84      0.87        25\n",
      "Neutral / author is just sharing information       1.00      0.57      0.72        23\n",
      "                                    Positive       0.75      0.84      0.79        25\n",
      "      Tweet not related to weather condition       0.75      0.91      0.82        43\n",
      "\n",
      "                                    accuracy                           0.81       116\n",
      "                                   macro avg       0.85      0.79      0.80       116\n",
      "                                weighted avg       0.83      0.81      0.81       116\n",
      "\n"
     ]
    }
   ],
   "source": [
    "cr_svm = classification_report(y_test, y_pred_svm)\n",
    "print(cr_svm)"
   ]
  }
 ],
 "metadata": {
  "kernelspec": {
   "display_name": "Python 3 (ipykernel)",
   "language": "python",
   "name": "python3"
  },
  "language_info": {
   "codemirror_mode": {
    "name": "ipython",
    "version": 3
   },
   "file_extension": ".py",
   "mimetype": "text/x-python",
   "name": "python",
   "nbconvert_exporter": "python",
   "pygments_lexer": "ipython3",
   "version": "3.11.4"
  }
 },
 "nbformat": 4,
 "nbformat_minor": 4
}
