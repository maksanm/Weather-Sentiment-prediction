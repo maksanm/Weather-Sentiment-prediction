{
 "cells": [
  {
   "cell_type": "markdown",
   "id": "a5a89ffb-d2f9-40a0-83ee-0a79939676eb",
   "metadata": {},
   "source": [
    "## Imports"
   ]
  },
  {
   "cell_type": "code",
   "execution_count": 1,
   "id": "1866e212-091c-4d0b-a021-dbafe00203cf",
   "metadata": {},
   "outputs": [],
   "source": [
    "from src.Assessor import Assessor\n",
    "import pickle\n",
    "from src.TweetTextPreprocessor import TweetTextPreprocessor\n",
    "from os import path"
   ]
  },
  {
   "cell_type": "markdown",
   "id": "8cd52f18-f086-4e09-bfd9-b69ff43771c2",
   "metadata": {},
   "source": [
    "## Setup"
   ]
  },
  {
   "cell_type": "code",
   "execution_count": 2,
   "id": "e06bec6e-4d78-4519-84df-7882b1777d85",
   "metadata": {},
   "outputs": [],
   "source": [
    "saved_models_path = './models/'\n",
    "saved_vectorizers_path = \"./models/vectorizers/\"\n",
    "model_names = [\"rf_basic\", \"rf_complex_classes\", \"rf_conf_weights\",\n",
    "               \"svm_basic\", \"svm_complex_classes\", \"svm_conf_weights\",\n",
    "               \"xgb_basic\", \"xgb_complex_classes\", \"xgb_conf_weights\"]\n",
    "models = []\n",
    "vectorizer_names = [\"basic_vectorizer\", \"complex_classes_vectorizer\", \"conf_weights_vectorizer\" ]\n",
    "vectorizers = []\n",
    "label_encoder_names = [\"basic_label_encoder\", \"complex_classes_label_encoder\", \"conf_weights_label_encoder\" ]\n",
    "label_encoders = []"
   ]
  },
  {
   "cell_type": "markdown",
   "id": "6553f7e8-2657-4786-b955-6865b4a2e8c6",
   "metadata": {},
   "source": [
    "### Preprocessor"
   ]
  },
  {
   "cell_type": "code",
   "execution_count": 3,
   "id": "902dc5ec-437b-4150-bd98-6e61d6f7418a",
   "metadata": {},
   "outputs": [
    {
     "name": "stderr",
     "output_type": "stream",
     "text": [
      "[nltk_data] Downloading package punkt to\n",
      "[nltk_data]     C:\\Users\\mmakaranka\\AppData\\Roaming\\nltk_data...\n",
      "[nltk_data]   Package punkt is already up-to-date!\n",
      "[nltk_data] Downloading package wordnet to\n",
      "[nltk_data]     C:\\Users\\mmakaranka\\AppData\\Roaming\\nltk_data...\n",
      "[nltk_data]   Package wordnet is already up-to-date!\n",
      "[nltk_data] Downloading package omw-1.4 to\n",
      "[nltk_data]     C:\\Users\\mmakaranka\\AppData\\Roaming\\nltk_data...\n",
      "[nltk_data]   Package omw-1.4 is already up-to-date!\n",
      "[nltk_data] Downloading package stopwords to\n",
      "[nltk_data]     C:\\Users\\mmakaranka\\AppData\\Roaming\\nltk_data...\n",
      "[nltk_data]   Package stopwords is already up-to-date!\n"
     ]
    }
   ],
   "source": [
    "preprocessor = TweetTextPreprocessor()"
   ]
  },
  {
   "cell_type": "markdown",
   "id": "979368de",
   "metadata": {},
   "source": [
    "### Loading vectorizers and label encoders from files"
   ]
  },
  {
   "cell_type": "code",
   "execution_count": 4,
   "id": "db1beae3",
   "metadata": {},
   "outputs": [
    {
     "name": "stdout",
     "output_type": "stream",
     "text": [
      "basic_vectorizer\n",
      "complex_classes_vectorizer\n",
      "conf_weights_vectorizer\n",
      "basic_label_encoder\n",
      "complex_classes_label_encoder\n",
      "conf_weights_label_encoder\n"
     ]
    }
   ],
   "source": [
    "for name in vectorizer_names:\n",
    "    with open(path.join(saved_vectorizers_path, name + \".pkl\"), 'rb') as file:\n",
    "        print(name)\n",
    "        vectorizer = pickle.load(file)\n",
    "        vectorizers.append(vectorizer)\n",
    "\n",
    "for name in label_encoder_names:\n",
    "    with open(path.join(saved_vectorizers_path, name + \".pkl\"), 'rb') as file:\n",
    "        print(name)\n",
    "        le = pickle.load(file)\n",
    "        label_encoders.append(le)"
   ]
  },
  {
   "cell_type": "markdown",
   "id": "7576d1e5-7800-4394-ab1b-c45b90964d76",
   "metadata": {},
   "source": [
    "### Loading models from file"
   ]
  },
  {
   "cell_type": "code",
   "execution_count": 5,
   "id": "21e73f0e-4e90-497b-b981-a73462a9e3d3",
   "metadata": {},
   "outputs": [],
   "source": [
    "for name in model_names:\n",
    "    with open(path.join(saved_models_path, name + \".pkl\"), 'rb') as file:\n",
    "        model = pickle.load(file)\n",
    "        models.append(model)"
   ]
  },
  {
   "cell_type": "markdown",
   "id": "21606c81-f026-4c6e-8e71-a1e10ec80d9f",
   "metadata": {},
   "source": [
    "## Assessing statement"
   ]
  },
  {
   "cell_type": "code",
   "execution_count": 6,
   "id": "5b51a8ae-5d61-430d-aef3-d95e2536d162",
   "metadata": {},
   "outputs": [],
   "source": [
    "assessor = Assessor()"
   ]
  },
  {
   "cell_type": "markdown",
   "id": "63424665-4d4b-485a-996b-1030980a516b",
   "metadata": {},
   "source": [
    "### Custom input"
   ]
  },
  {
   "cell_type": "code",
   "execution_count": 7,
   "id": "4304447d-e88b-4516-8a5e-79a6b96fcc68",
   "metadata": {},
   "outputs": [],
   "source": [
    "custom_input = \"Weather is very nice today\""
   ]
  },
  {
   "cell_type": "code",
   "execution_count": 8,
   "id": "e739ef06-1968-4484-803c-1f8b84633c3e",
   "metadata": {},
   "outputs": [
    {
     "name": "stdout",
     "output_type": "stream",
     "text": [
      "MODEL: rf_basic INPUT: Weather is very nice today PREDICTION: Positive\n",
      "MODEL: rf_complex_classes INPUT: Weather is very nice today PREDICTION: Highly positive\n",
      "MODEL: rf_conf_weights INPUT: Weather is very nice today PREDICTION: Positive\n",
      "MODEL: svm_basic INPUT: Weather is very nice today PREDICTION: Positive\n",
      "MODEL: svm_complex_classes INPUT: Weather is very nice today PREDICTION: Highly positive\n",
      "MODEL: svm_conf_weights INPUT: Weather is very nice today PREDICTION: Positive\n",
      "MODEL: xgb_basic INPUT: Weather is very nice today PREDICTION: Positive\n",
      "MODEL: xgb_complex_classes INPUT: Weather is very nice today PREDICTION: Highly positive\n",
      "MODEL: xgb_conf_weights INPUT: Weather is very nice today PREDICTION: Positive\n"
     ]
    }
   ],
   "source": [
    "custom_input_sentiment = assessor.assess_sentiment_with_every_model(models, model_names, preprocessor, vectorizers,\n",
    "                                                                    vectorizer_names, custom_input, label_encoders, label_encoder_names)"
   ]
  }
 ],
 "metadata": {
  "kernelspec": {
   "display_name": "Python 3 (ipykernel)",
   "language": "python",
   "name": "python3"
  },
  "language_info": {
   "codemirror_mode": {
    "name": "ipython",
    "version": 3
   },
   "file_extension": ".py",
   "mimetype": "text/x-python",
   "name": "python",
   "nbconvert_exporter": "python",
   "pygments_lexer": "ipython3",
   "version": "3.8.0"
  }
 },
 "nbformat": 4,
 "nbformat_minor": 5
}
