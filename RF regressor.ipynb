{
 "cells": [
  {
   "cell_type": "markdown",
   "id": "248ae896-0b23-4639-8035-31c9e4e2e209",
   "metadata": {},
   "source": [
    "# Random Forest Regressor"
   ]
  },
  {
   "cell_type": "markdown",
   "id": "b3358932",
   "metadata": {},
   "source": [
    "This Random Forest (RF) regressor is designed to classify tweet texts into three categories: **Positive**, **Negative**, and **Neutral**. The classification is primarily based on the sentiment of the tweet, while also considering the confidence level. The model generates a confidence score that is scaled as follows:\n",
    "- Scores in the range $[-1, -neutral\\_limit)$ indicate a **Negative** sentiment\n",
    "- A score of $0$ signifies a **Neutral** sentiment\n",
    "- Scores in the range $(neutral\\_limit, 1]$ denote a **Positive** sentiment"
   ]
  },
  {
   "cell_type": "markdown",
   "id": "cd697819-bb78-4e19-bccc-82352d7cf803",
   "metadata": {},
   "source": [
    "## Imports"
   ]
  },
  {
   "cell_type": "code",
   "execution_count": 115,
   "id": "99c7f6e7-fbab-407e-8823-e4549251d345",
   "metadata": {},
   "outputs": [],
   "source": [
    "from src.WeatherSentimentData import WeatherSentimentData\n",
    "from src.TweetTextPreprocessor import TweetTextPreprocessor\n",
    "from src.Assessor import Assessor\n",
    "from sklearn.ensemble import RandomForestRegressor\n",
    "from sklearn.feature_extraction.text import TfidfVectorizer\n",
    "import pandas as pd\n",
    "from sklearn.feature_extraction.text import CountVectorizer\n",
    "from sklearn.model_selection import train_test_split\n",
    "from sklearn.metrics import accuracy_score, mean_squared_error, mean_absolute_error, r2_score\n",
    "from config import test_size, neutral_limit"
   ]
  },
  {
   "cell_type": "markdown",
   "id": "2e531242-a6be-4af0-b78c-4b5fe75b6ca1",
   "metadata": {},
   "source": [
    "## Data"
   ]
  },
  {
   "cell_type": "code",
   "execution_count": 116,
   "id": "239b69f9-c285-4eab-b839-227d6d0722d5",
   "metadata": {},
   "outputs": [],
   "source": [
    "# In this case we want to use the original dataset in order to have more correct confidence values\n",
    "weather_data = WeatherSentimentData('data', use_generated_data=False)\n",
    "df = weather_data.full_data\n",
    "\n",
    "# Set \"Not related to weather condition\" to 'Neutral'\n",
    "df.loc[df['sentiment'] == 'Tweet not related to weather condition', ['sentiment']] = 'Neutral / author is just sharing information'\n",
    "\n",
    "# Filter records with low confidence\n",
    "df =  df[df.confidence.astype(float) > 0.6]"
   ]
  },
  {
   "cell_type": "markdown",
   "id": "135976e3-43e2-427f-aecf-11d3f17a151b",
   "metadata": {},
   "source": [
    "### Text preprocessing"
   ]
  },
  {
   "cell_type": "code",
   "execution_count": 117,
   "id": "431e3317",
   "metadata": {},
   "outputs": [
    {
     "name": "stderr",
     "output_type": "stream",
     "text": [
      "[nltk_data] Downloading package punkt to\n",
      "[nltk_data]     C:\\Users\\mmakaranka\\AppData\\Roaming\\nltk_data...\n",
      "[nltk_data]   Package punkt is already up-to-date!\n",
      "[nltk_data] Downloading package wordnet to\n",
      "[nltk_data]     C:\\Users\\mmakaranka\\AppData\\Roaming\\nltk_data...\n",
      "[nltk_data]   Package wordnet is already up-to-date!\n",
      "[nltk_data] Downloading package omw-1.4 to\n",
      "[nltk_data]     C:\\Users\\mmakaranka\\AppData\\Roaming\\nltk_data...\n",
      "[nltk_data]   Package omw-1.4 is already up-to-date!\n",
      "[nltk_data] Downloading package stopwords to\n",
      "[nltk_data]     C:\\Users\\mmakaranka\\AppData\\Roaming\\nltk_data...\n",
      "[nltk_data]   Package stopwords is already up-to-date!\n",
      "C:\\Users\\mmakaranka\\AppData\\Local\\Temp\\ipykernel_26848\\3602649460.py:2: SettingWithCopyWarning: \n",
      "A value is trying to be set on a copy of a slice from a DataFrame.\n",
      "Try using .loc[row_indexer,col_indexer] = value instead\n",
      "\n",
      "See the caveats in the documentation: https://pandas.pydata.org/pandas-docs/stable/user_guide/indexing.html#returning-a-view-versus-a-copy\n",
      "  df['tweet_text'] = preprocessor.preprocess(df['tweet_text'])\n"
     ]
    }
   ],
   "source": [
    "preprocessor = TweetTextPreprocessor()\n",
    "df['tweet_text'] = preprocessor.preprocess(df['tweet_text'])"
   ]
  },
  {
   "cell_type": "markdown",
   "id": "4657c9bc-5473-4d65-a870-2b1392ae885e",
   "metadata": {},
   "source": [
    "## Modeling"
   ]
  },
  {
   "cell_type": "markdown",
   "id": "fc87ae1f-c2ea-42c6-adc9-27d0899964c6",
   "metadata": {},
   "source": [
    "### Preparing data"
   ]
  },
  {
   "cell_type": "code",
   "execution_count": 118,
   "id": "d0101a3d-f836-424f-bb1d-ce672f7bb7ae",
   "metadata": {},
   "outputs": [
    {
     "name": "stderr",
     "output_type": "stream",
     "text": [
      "C:\\Users\\mmakaranka\\AppData\\Local\\Temp\\ipykernel_26848\\143821689.py:1: SettingWithCopyWarning: \n",
      "A value is trying to be set on a copy of a slice from a DataFrame.\n",
      "Try using .loc[row_indexer,col_indexer] = value instead\n",
      "\n",
      "See the caveats in the documentation: https://pandas.pydata.org/pandas-docs/stable/user_guide/indexing.html#returning-a-view-versus-a-copy\n",
      "  df['tweet_text'] = df['tweet_text'].apply(lambda x: ' '.join(x)) # list -> string\n"
     ]
    }
   ],
   "source": [
    "df['tweet_text'] = df['tweet_text'].apply(lambda x: ' '.join(x)) # list -> string"
   ]
  },
  {
   "cell_type": "code",
   "execution_count": 119,
   "id": "a7332f4a-79ab-4a14-9cd9-cf50662d7100",
   "metadata": {},
   "outputs": [
    {
     "name": "stderr",
     "output_type": "stream",
     "text": [
      "C:\\Users\\mmakaranka\\AppData\\Local\\Temp\\ipykernel_26848\\4098569336.py:2: SettingWithCopyWarning: \n",
      "A value is trying to be set on a copy of a slice from a DataFrame.\n",
      "Try using .loc[row_indexer,col_indexer] = value instead\n",
      "\n",
      "See the caveats in the documentation: https://pandas.pydata.org/pandas-docs/stable/user_guide/indexing.html#returning-a-view-versus-a-copy\n",
      "  df['confidence'] = df.apply(lambda row: -1 * row['confidence'] if row['sentiment'] == 'Negative' else row['confidence'], axis=1)\n",
      "C:\\Users\\mmakaranka\\AppData\\Local\\Temp\\ipykernel_26848\\4098569336.py:3: SettingWithCopyWarning: \n",
      "A value is trying to be set on a copy of a slice from a DataFrame.\n",
      "Try using .loc[row_indexer,col_indexer] = value instead\n",
      "\n",
      "See the caveats in the documentation: https://pandas.pydata.org/pandas-docs/stable/user_guide/indexing.html#returning-a-view-versus-a-copy\n",
      "  df['confidence'] = df.apply(lambda row: 0 if row['sentiment'] == 'Neutral / author is just sharing information' else row['confidence'], axis=1)\n"
     ]
    }
   ],
   "source": [
    "# multiplying by -1 for negative sentiment and by 0 for neutral sentiment\n",
    "df['confidence'] = df.apply(lambda row: -1 * row['confidence'] if row['sentiment'] == 'Negative' else row['confidence'], axis=1)\n",
    "df['confidence'] = df.apply(lambda row: 0 if row['sentiment'] == 'Neutral / author is just sharing information' else row['confidence'], axis=1)"
   ]
  },
  {
   "cell_type": "markdown",
   "id": "14bba3d8-74ff-42e1-8c8c-fa92d5aa3611",
   "metadata": {
    "tags": []
   },
   "source": [
    "### Spliting data into train and test"
   ]
  },
  {
   "cell_type": "code",
   "execution_count": 120,
   "id": "4caa86d2-7fc8-4f35-a0d9-3bb0f27017ad",
   "metadata": {},
   "outputs": [
    {
     "data": {
      "text/plain": [
       "0      grill kabob grill last night amaz im glad weat...\n",
       "1                slowest day ever weather make even wors\n",
       "2      fire weather watch issu may pm cdt expir may p...\n",
       "3      im go lunch earli today weather nice outsid im...\n",
       "4             weekend weather caus delay bridg work link\n",
       "                             ...                        \n",
       "993    prayer go joplin missouri everyon affect crazi...\n",
       "995    good morn sunni pick new car wilton hous near ...\n",
       "996    saw snow white work ladi foot locker look hot ...\n",
       "998                   outsid look window hot bother anim\n",
       "999    rt mention commun blood center media blood dri...\n",
       "Name: tweet_text, Length: 574, dtype: object"
      ]
     },
     "execution_count": 120,
     "metadata": {},
     "output_type": "execute_result"
    }
   ],
   "source": [
    "df[\"tweet_text\"]"
   ]
  },
  {
   "cell_type": "code",
   "execution_count": 121,
   "id": "de496c34-7e17-4b47-ab21-9a5af90f4e2b",
   "metadata": {},
   "outputs": [],
   "source": [
    "X = df[\"tweet_text\"]\n",
    "y = df[\"confidence\"]"
   ]
  },
  {
   "cell_type": "code",
   "execution_count": 122,
   "id": "66343844-9735-47aa-9713-00c2dc803ebb",
   "metadata": {},
   "outputs": [],
   "source": [
    "X_train, X_test, y_train, y_test = train_test_split(X, y, test_size=test_size, random_state=42)"
   ]
  },
  {
   "cell_type": "markdown",
   "id": "5433501b-f51b-4ce4-9cd8-3161225cc90b",
   "metadata": {},
   "source": [
    "### Vectorizing"
   ]
  },
  {
   "cell_type": "code",
   "execution_count": 123,
   "id": "acbf62b3-bcb5-4707-8a28-fccdf53cf77b",
   "metadata": {},
   "outputs": [],
   "source": [
    "# ngram\n",
    "vectorizer = TfidfVectorizer(ngram_range=(1, 3))\n",
    "X_tf_idf_word_train = vectorizer.fit_transform(X_train)\n",
    "X_tf_idf_word_test = vectorizer.transform(X_test)"
   ]
  },
  {
   "cell_type": "markdown",
   "id": "478f3f45-119a-4fd5-b76a-c704aa599be9",
   "metadata": {},
   "source": [
    "### Model"
   ]
  },
  {
   "cell_type": "code",
   "execution_count": 124,
   "id": "8a73b3c6-780e-48d3-95a7-0e5baa28c893",
   "metadata": {},
   "outputs": [],
   "source": [
    "model = RandomForestRegressor(random_state=42)"
   ]
  },
  {
   "cell_type": "code",
   "execution_count": 125,
   "id": "1f71879c-f285-4298-b608-8c9d09447346",
   "metadata": {},
   "outputs": [
    {
     "name": "stdout",
     "output_type": "stream",
     "text": [
      "CPU times: total: 22.5 s\n",
      "Wall time: 24.5 s\n"
     ]
    },
    {
     "data": {
      "text/html": [
       "<style>#sk-container-id-7 {color: black;}#sk-container-id-7 pre{padding: 0;}#sk-container-id-7 div.sk-toggleable {background-color: white;}#sk-container-id-7 label.sk-toggleable__label {cursor: pointer;display: block;width: 100%;margin-bottom: 0;padding: 0.3em;box-sizing: border-box;text-align: center;}#sk-container-id-7 label.sk-toggleable__label-arrow:before {content: \"▸\";float: left;margin-right: 0.25em;color: #696969;}#sk-container-id-7 label.sk-toggleable__label-arrow:hover:before {color: black;}#sk-container-id-7 div.sk-estimator:hover label.sk-toggleable__label-arrow:before {color: black;}#sk-container-id-7 div.sk-toggleable__content {max-height: 0;max-width: 0;overflow: hidden;text-align: left;background-color: #f0f8ff;}#sk-container-id-7 div.sk-toggleable__content pre {margin: 0.2em;color: black;border-radius: 0.25em;background-color: #f0f8ff;}#sk-container-id-7 input.sk-toggleable__control:checked~div.sk-toggleable__content {max-height: 200px;max-width: 100%;overflow: auto;}#sk-container-id-7 input.sk-toggleable__control:checked~label.sk-toggleable__label-arrow:before {content: \"▾\";}#sk-container-id-7 div.sk-estimator input.sk-toggleable__control:checked~label.sk-toggleable__label {background-color: #d4ebff;}#sk-container-id-7 div.sk-label input.sk-toggleable__control:checked~label.sk-toggleable__label {background-color: #d4ebff;}#sk-container-id-7 input.sk-hidden--visually {border: 0;clip: rect(1px 1px 1px 1px);clip: rect(1px, 1px, 1px, 1px);height: 1px;margin: -1px;overflow: hidden;padding: 0;position: absolute;width: 1px;}#sk-container-id-7 div.sk-estimator {font-family: monospace;background-color: #f0f8ff;border: 1px dotted black;border-radius: 0.25em;box-sizing: border-box;margin-bottom: 0.5em;}#sk-container-id-7 div.sk-estimator:hover {background-color: #d4ebff;}#sk-container-id-7 div.sk-parallel-item::after {content: \"\";width: 100%;border-bottom: 1px solid gray;flex-grow: 1;}#sk-container-id-7 div.sk-label:hover label.sk-toggleable__label {background-color: #d4ebff;}#sk-container-id-7 div.sk-serial::before {content: \"\";position: absolute;border-left: 1px solid gray;box-sizing: border-box;top: 0;bottom: 0;left: 50%;z-index: 0;}#sk-container-id-7 div.sk-serial {display: flex;flex-direction: column;align-items: center;background-color: white;padding-right: 0.2em;padding-left: 0.2em;position: relative;}#sk-container-id-7 div.sk-item {position: relative;z-index: 1;}#sk-container-id-7 div.sk-parallel {display: flex;align-items: stretch;justify-content: center;background-color: white;position: relative;}#sk-container-id-7 div.sk-item::before, #sk-container-id-7 div.sk-parallel-item::before {content: \"\";position: absolute;border-left: 1px solid gray;box-sizing: border-box;top: 0;bottom: 0;left: 50%;z-index: -1;}#sk-container-id-7 div.sk-parallel-item {display: flex;flex-direction: column;z-index: 1;position: relative;background-color: white;}#sk-container-id-7 div.sk-parallel-item:first-child::after {align-self: flex-end;width: 50%;}#sk-container-id-7 div.sk-parallel-item:last-child::after {align-self: flex-start;width: 50%;}#sk-container-id-7 div.sk-parallel-item:only-child::after {width: 0;}#sk-container-id-7 div.sk-dashed-wrapped {border: 1px dashed gray;margin: 0 0.4em 0.5em 0.4em;box-sizing: border-box;padding-bottom: 0.4em;background-color: white;}#sk-container-id-7 div.sk-label label {font-family: monospace;font-weight: bold;display: inline-block;line-height: 1.2em;}#sk-container-id-7 div.sk-label-container {text-align: center;}#sk-container-id-7 div.sk-container {/* jupyter's `normalize.less` sets `[hidden] { display: none; }` but bootstrap.min.css set `[hidden] { display: none !important; }` so we also need the `!important` here to be able to override the default hidden behavior on the sphinx rendered scikit-learn.org. See: https://github.com/scikit-learn/scikit-learn/issues/21755 */display: inline-block !important;position: relative;}#sk-container-id-7 div.sk-text-repr-fallback {display: none;}</style><div id=\"sk-container-id-7\" class=\"sk-top-container\"><div class=\"sk-text-repr-fallback\"><pre>RandomForestRegressor(random_state=42)</pre><b>In a Jupyter environment, please rerun this cell to show the HTML representation or trust the notebook. <br />On GitHub, the HTML representation is unable to render, please try loading this page with nbviewer.org.</b></div><div class=\"sk-container\" hidden><div class=\"sk-item\"><div class=\"sk-estimator sk-toggleable\"><input class=\"sk-toggleable__control sk-hidden--visually\" id=\"sk-estimator-id-7\" type=\"checkbox\" checked><label for=\"sk-estimator-id-7\" class=\"sk-toggleable__label sk-toggleable__label-arrow\">RandomForestRegressor</label><div class=\"sk-toggleable__content\"><pre>RandomForestRegressor(random_state=42)</pre></div></div></div></div></div>"
      ],
      "text/plain": [
       "RandomForestRegressor(random_state=42)"
      ]
     },
     "execution_count": 125,
     "metadata": {},
     "output_type": "execute_result"
    }
   ],
   "source": [
    "%%time\n",
    "model.fit(X_tf_idf_word_train, y_train)"
   ]
  },
  {
   "cell_type": "markdown",
   "id": "83fcd8b1-aa74-44a1-8bdf-6eb4eb5d4b2e",
   "metadata": {},
   "source": [
    "### Predictions"
   ]
  },
  {
   "cell_type": "code",
   "execution_count": 126,
   "id": "904a561b-2fd5-4a7a-9cae-12a4fdd743bc",
   "metadata": {},
   "outputs": [],
   "source": [
    "# Predictions on the test set\n",
    "y_pred = model.predict(X_tf_idf_word_test)"
   ]
  },
  {
   "cell_type": "code",
   "execution_count": 127,
   "id": "051b671d-4ae9-49bc-bb6d-4a9f878f3369",
   "metadata": {},
   "outputs": [
    {
     "data": {
      "text/plain": [
       "<Axes: >"
      ]
     },
     "execution_count": 127,
     "metadata": {},
     "output_type": "execute_result"
    },
    {
     "data": {
      "image/png": "[encoded data removed]",
      "text/plain": [
       "<Figure size 1500x600 with 1 Axes>"
      ]
     },
     "metadata": {},
     "output_type": "display_data"
    }
   ],
   "source": [
    "# Confidence prediction efficency\n",
    "analysis_df = pd.DataFrame({\n",
    "    'predicted': y_pred,\n",
    "    'real': y_test\n",
    "})\n",
    "analysis_df.plot(kind='bar', figsize=(15, 6), xticks=[])"
   ]
  },
  {
   "cell_type": "markdown",
   "id": "63e21d5f-ef3b-4e3a-9070-d18cec05ef3f",
   "metadata": {},
   "source": [
    "## Metrics"
   ]
  },
  {
   "cell_type": "code",
   "execution_count": 128,
   "id": "fe6bf6a7-ae74-4c23-a430-eb4fc6f11ff6",
   "metadata": {},
   "outputs": [
    {
     "data": {
      "text/plain": [
       "('MAE:',\n",
       " 0.23583236206896555,\n",
       " 'MSE:',\n",
       " 0.1222816221955,\n",
       " 'R2:',\n",
       " 0.6554923481604129)"
      ]
     },
     "execution_count": 128,
     "metadata": {},
     "output_type": "execute_result"
    }
   ],
   "source": [
    "mse = mean_squared_error(y_test, y_pred)\n",
    "mae = mean_absolute_error(y_test, y_pred)\n",
    "r2 = r2_score(y_test, y_pred)\n",
    "(\"MAE:\", mae, \"MSE:\", mse, \"R2:\", r2)"
   ]
  },
  {
   "cell_type": "code",
   "execution_count": 129,
   "id": "489af1d2",
   "metadata": {},
   "outputs": [
    {
     "data": {
      "text/plain": [
       "('Accuracy', 0.8448275862068966)"
      ]
     },
     "execution_count": 129,
     "metadata": {},
     "output_type": "execute_result"
    }
   ],
   "source": [
    "def assign_class(value):\n",
    "    if value >= -1 and value <= -neutral_limit:\n",
    "        return 'Negative'\n",
    "    elif value > -neutral_limit and value < neutral_limit:\n",
    "        return 'Neutral / author is just sharing information'\n",
    "    elif value >= neutral_limit and value <= 1:\n",
    "        return 'Positive'\n",
    "\n",
    "# Apply the function to assign classes based on the regression result\n",
    "analysis_df['predicted_class'] = analysis_df['predicted'].apply(assign_class)\n",
    "analysis_df['real_class'] = analysis_df['real'].apply(assign_class)\n",
    "\n",
    "\"Accuracy\", accuracy_score(analysis_df['real_class'], analysis_df['predicted_class'])\n"
   ]
  },
  {
   "cell_type": "markdown",
   "id": "2a165a36",
   "metadata": {},
   "source": [
    "## Custom inputs"
   ]
  },
  {
   "cell_type": "code",
   "execution_count": 167,
   "id": "57bf677d",
   "metadata": {},
   "outputs": [
    {
     "name": "stdout",
     "output_type": "stream",
     "text": [
      "INPUT: The weather is nice PREDICTION: 0.8080619999999997\n"
     ]
    },
    {
     "data": {
      "text/plain": [
       "0.8080619999999997"
      ]
     },
     "execution_count": 167,
     "metadata": {},
     "output_type": "execute_result"
    }
   ],
   "source": [
    "custom_input = \"The weather is nice\"\n",
    "assessor = Assessor()\n",
    "assessor.assess_sentiment(model, preprocessor, vectorizer, custom_input)"
   ]
  }
 ],
 "metadata": {
  "kernelspec": {
   "display_name": "Python 3 (ipykernel)",
   "language": "python",
   "name": "python3"
  },
  "language_info": {
   "codemirror_mode": {
    "name": "ipython",
    "version": 3
   },
   "file_extension": ".py",
   "mimetype": "text/x-python",
   "name": "python",
   "nbconvert_exporter": "python",
   "pygments_lexer": "ipython3",
   "version": "3.11.4"
  }
 },
 "nbformat": 4,
 "nbformat_minor": 5
}
